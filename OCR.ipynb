{
 "cells": [
  {
   "cell_type": "markdown",
   "metadata": {},
   "source": [
    "This will handle the first step of the process - creating the code from the images."
   ]
  },
  {
   "cell_type": "code",
   "execution_count": 8,
   "metadata": {},
   "outputs": [],
   "source": [
    "from azure.cognitiveservices.vision.computervision import ComputerVisionClient\n",
    "from azure.cognitiveservices.vision.computervision.models import OperationStatusCodes\n",
    "from azure.cognitiveservices.vision.computervision.models import VisualFeatureTypes\n",
    "from msrest.authentication import CognitiveServicesCredentials\n",
    "\n",
    "from array import array\n",
    "import os\n",
    "from PIL import Image\n",
    "import sys\n",
    "import time\n",
    "from glob import glob\n",
    "import secrets\n",
    "import re"
   ]
  },
  {
   "cell_type": "code",
   "execution_count": 3,
   "metadata": {},
   "outputs": [],
   "source": [
    "# basic setup and auth\n",
    "subscription_key = secrets.SUB_KEY\n",
    "endpoint = \"https://test-image-rec.cognitiveservices.azure.com/\"\n",
    "computervision_client = ComputerVisionClient(endpoint, CognitiveServicesCredentials(subscription_key))\n",
    "GH_BASE = 'https://raw.githubusercontent.com/GitToby/college-code-reincarnation/master/meta_work/img/'"
   ]
  },
  {
   "cell_type": "code",
   "execution_count": 4,
   "metadata": {},
   "outputs": [
    {
     "output_type": "stream",
     "name": "stdout",
     "text": [
      "37 Images\n"
     ]
    }
   ],
   "source": [
    "# fetch all images\n",
    "images = glob(\"img/*\")\n",
    "\n",
    "# replace the folder to get just the image filenames\n",
    "for i in range(len(images)):\n",
    "    images[i] = images[i].replace(\"img/\",\"\")\n",
    "\n",
    "image_urls = [GH_BASE + im for im in images]\n",
    "\n",
    "print(len(images), \"Images\")"
   ]
  },
  {
   "cell_type": "code",
   "execution_count": 5,
   "metadata": {},
   "outputs": [],
   "source": [
    "def make_request(img_url: str, print_res: bool = False) -> str:\n",
    "    # Make initial request\n",
    "    recognize_handw_results = computervision_client.read(img_url, raw=True)\n",
    "\n",
    "    # Parse response to get op ID \n",
    "    operation_location_remote = recognize_handw_results.headers[\"Operation-Location\"]\n",
    "    operation_id = operation_location_remote.split(\"/\")[-1]\n",
    "    \n",
    "    # Await the response while remote does processing (nast impl but I dont care) \n",
    "    while True:\n",
    "        get_handw_text_results = computervision_client.get_read_result(operation_id)\n",
    "        if get_handw_text_results.status not in ['notStarted', 'running']:\n",
    "            break\n",
    "        time.sleep(1)\n",
    "\n",
    "    # Print the detected text, line by line\n",
    "    if get_handw_text_results.status == OperationStatusCodes.succeeded:\n",
    "        for text_result in get_handw_text_results.analyze_result.read_results:\n",
    "            if print_res:\n",
    "                for line in text_result.lines:\n",
    "                    print(line.text)\n",
    "            return text_result.lines"
   ]
  },
  {
   "cell_type": "code",
   "execution_count": 6,
   "metadata": {},
   "outputs": [],
   "source": [
    "def pipe_image_to_txt(image_file_path: str) -> (str,str):\n",
    "    # form known url\n",
    "    image_url = GH_BASE + image_file_path\n",
    "\n",
    "    # Make request and get data\n",
    "    res = make_request(image_url)\n",
    "\n",
    "    # Join resulting data to a string\n",
    "    out_text = \"\\n\".join(t.text for t in res)\n",
    "    \n",
    "    # dump into an out file\n",
    "    out_file_name = image_file_path.replace(\".jpg\",\".txt\")\n",
    "    with open(f\"out/{out_file_name}\", \"w\") as f:\n",
    "        f.write(out_text)\n",
    "\n",
    "    # util result\n",
    "    return image_file_path, out_file_name\n"
   ]
  },
  {
   "cell_type": "code",
   "execution_count": 42,
   "metadata": {},
   "outputs": [
    {
     "output_type": "stream",
     "name": "stdout",
     "text": [
      "0 | SessionTimetable2.jpg -> SessionTimetable2.txt\n",
      "1 | add new member 1.jpg -> add new member 1.txt\n",
      "2 | addNewMember2.jpg -> addNewMember2.txt\n",
      "3 | addNewMember3.jpg -> addNewMember3.txt\n",
      "4 | addNewMember4.jpg -> addNewMember4.txt\n",
      "5 | addNewMember5.jpg -> addNewMember5.txt\n",
      "6 | addRemoveMembers1.jpg -> addRemoveMembers1.txt\n",
      "7 | addRemoveMembers2.jpg -> addRemoveMembers2.txt\n",
      "8 | addRemoveMembers3.jpg -> addRemoveMembers3.txt\n",
      "9 | addRemoveMembers4.jpg -> addRemoveMembers4.txt\n",
      "10 | editMemberInfo1.jpg -> editMemberInfo1.txt\n",
      "11 | editMemberInfo2.jpg -> editMemberInfo2.txt\n",
      "12 | editMemberInfo3.jpg -> editMemberInfo3.txt\n",
      "13 | editMemberInfo5.jpg -> editMemberInfo5.txt\n",
      "14 | editMemberInfo6.jpg -> editMemberInfo6.txt\n",
      "15 | mainMenu1.jpg -> mainMenu1.txt\n",
      "16 | mainmenu2.jpg -> mainmenu2.txt\n",
      "17 | memberPage1.jpg -> memberPage1.txt\n",
      "18 | memberPage2.jpg -> memberPage2.txt\n",
      "19 | memberPage3.jpg -> memberPage3.txt\n",
      "20 | memberPage4.jpg -> memberPage4.txt\n",
      "21 | memberTypes1.jpg -> memberTypes1.txt\n",
      "22 | memberTypes2.jpg -> memberTypes2.txt\n",
      "23 | members list 1.jpg -> members list 1.txt\n",
      "24 | members list 2.jpg -> members list 2.txt\n",
      "25 | members list 3.jpg -> members list 3.txt\n",
      "26 | sendEmail1.jpg -> sendEmail1.txt\n",
      "27 | sendEmail2.jpg -> sendEmail2.txt\n",
      "28 | sessionInfo1.jpg -> sessionInfo1.txt\n",
      "29 | sessionInfo2.jpg -> sessionInfo2.txt\n",
      "30 | sessionInfo3.jpg -> sessionInfo3.txt\n",
      "31 | sessionInfo4.jpg -> sessionInfo4.txt\n",
      "32 | sessionTimetable1.jpg -> sessionTimetable1.txt\n",
      "33 | sql1.jpg -> sql1.txt\n",
      "34 | sql2.jpg -> sql2.txt\n",
      "35 | sql3.jpg -> sql3.txt\n",
      "36 | sql4.jpg -> sql4.txt\n"
     ]
    }
   ],
   "source": [
    "for i, image_file_path in enumerate(sorted(images)):\n",
    "    original, test_file = pipe_image_to_txt(image_file_path)\n",
    "    print(i, \"|\", original, \"->\", test_file)"
   ]
  },
  {
   "cell_type": "code",
   "execution_count": 9,
   "metadata": {
    "tags": []
   },
   "outputs": [],
   "source": [
    "files = glob(\"out/*.txt\")\n",
    "f_map = dict()\n",
    "\n",
    "# Group all files by their 'className'\n",
    "for f in files:\n",
    "    # Funky regexp to isolate them\n",
    "    f_key = re.search(\"[a-zA-Z]+[0-9]+\",f).group()[:-1]\n",
    "    if f_key in f_map.keys():\n",
    "        f_map[f_key] += [f]\n",
    "    else:\n",
    "        f_map[f_key] = [f]\n",
    "\n",
    "# dump them into code files\n",
    "for class_name in f_map.keys():\n",
    "    \n",
    "    # get list of files\n",
    "    txt_files = f_map[class_name]\n",
    "    \n",
    "    # extract and append to content\n",
    "    content = \"\"\n",
    "    for txt_f in sorted(txt_files):\n",
    "        with open(txt_f, \"r\") as f:\n",
    "            content = content + f.read()\n",
    "\n",
    "    # write this out to a file\n",
    "    with open(f\"code/{class_name}.vb\", \"w\") as f:\n",
    "        f.write(content)\n"
   ]
  },
  {
   "cell_type": "code",
   "execution_count": null,
   "metadata": {},
   "outputs": [],
   "source": []
  }
 ],
 "metadata": {
  "kernelspec": {
   "display_name": "Python 3",
   "language": "python",
   "name": "python3"
  },
  "language_info": {
   "codemirror_mode": {
    "name": "ipython",
    "version": 3
   },
   "file_extension": ".py",
   "mimetype": "text/x-python",
   "name": "python",
   "nbconvert_exporter": "python",
   "pygments_lexer": "ipython3",
   "version": "3.8.5-final"
  }
 },
 "nbformat": 4,
 "nbformat_minor": 4
}