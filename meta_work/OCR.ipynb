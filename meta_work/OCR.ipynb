{
 "cells": [
  {
   "cell_type": "markdown",
   "metadata": {},
   "source": [
    "This will handle the first step of the process - creating the code from the images."
   ]
  },
  {
   "cell_type": "code",
   "execution_count": 34,
   "metadata": {},
   "outputs": [],
   "source": [
    "from azure.cognitiveservices.vision.computervision import ComputerVisionClient\n",
    "from azure.cognitiveservices.vision.computervision.models import OperationStatusCodes\n",
    "from azure.cognitiveservices.vision.computervision.models import VisualFeatureTypes\n",
    "from msrest.authentication import CognitiveServicesCredentials\n",
    "\n",
    "from array import array\n",
    "import os\n",
    "from PIL import Image\n",
    "import sys\n",
    "import time\n",
    "from glob import glob"
   ]
  },
  {
   "cell_type": "code",
   "execution_count": 35,
   "metadata": {},
   "outputs": [],
   "source": [
    "subscription_key = \"<your subscription key>\"\n",
    "endpoint = \"<your API endpoint>\"\n",
    "computervision_client = ComputerVisionClient(endpoint, CognitiveServicesCredentials(subscription_key))"
   ]
  },
  {
   "cell_type": "code",
   "execution_count": 27,
   "metadata": {},
   "outputs": [
    {
     "name": "stdout",
     "output_type": "stream",
     "text": [
      "2  -  ['img/20201111_200202-2.jpg', 'img/20201111_200202.jpg']\n"
     ]
    }
   ],
   "source": [
    "images = glob(\"img/*\")\n",
    "print(len(images), \" - \",images)"
   ]
  },
  {
   "cell_type": "code",
   "execution_count": 36,
   "metadata": {},
   "outputs": [
    {
     "ename": "NameError",
     "evalue": "name 'remote_image_handw_text_url' is not defined",
     "output_type": "error",
     "traceback": [
      "\u001b[0;31m---------------------------------------------------------------------------\u001b[0m",
      "\u001b[0;31mNameError\u001b[0m                                 Traceback (most recent call last)",
      "\u001b[0;32m<ipython-input-36-7001fb5d439b>\u001b[0m in \u001b[0;36m<module>\u001b[0;34m\u001b[0m\n\u001b[0;32m----> 1\u001b[0;31m \u001b[0mcomputervision_client\u001b[0m\u001b[0;34m.\u001b[0m\u001b[0mread\u001b[0m\u001b[0;34m(\u001b[0m\u001b[0mremote_image_handw_text_url\u001b[0m\u001b[0;34m,\u001b[0m \u001b[0mraw\u001b[0m\u001b[0;34m=\u001b[0m\u001b[0;32mTrue\u001b[0m\u001b[0;34m,\u001b[0m\u001b[0;34m)\u001b[0m\u001b[0;34m\u001b[0m\u001b[0;34m\u001b[0m\u001b[0m\n\u001b[0m",
      "\u001b[0;31mNameError\u001b[0m: name 'remote_image_handw_text_url' is not defined"
     ]
    }
   ],
   "source": [
    "img_url = \n",
    "computervision_client.read(remote_image_handw_text_url, raw=True,)"
   ]
  },
  {
   "cell_type": "code",
   "execution_count": 30,
   "metadata": {},
   "outputs": [
    {
     "name": "stdout",
     "output_type": "stream",
     "text": [
      "Ti A\n",
      "SAT ee PS =105:43) Godalming College - Centre number COMP4 Project\n",
      "\n",
      "VB. Net Code\n",
      "\n",
      "—2. Net Code\n",
      "Tmt Titi\n",
      "\n",
      "al elas MySql. Data.MySqlClient\n",
      "a DELS EST Tit\n",
      "\n",
      "#Region \"DB connection AGO SUM a\n",
      "Public connectionString As String = _\n",
      "“Database=Computing2;\" & _\n",
      "“Data Source=localhost;\" & _\n",
      "“User Id=toby;\" & _\n",
      "“Passwords chicken; \"\n",
      "; “database=Computing” selects database from the list of mysql databases, use\n",
      "show databases\" in LI ESe\n",
      "“data Source = localhost\" uses the local machine ip as the data source for the\n",
      "database\n",
      "; “User ID=toby” selects the user from table mysql.users called toby with all the\n",
      "permissions it has\n",
      "a eM Sa a CT EEL\n",
      "Biven int the table above for a login\n",
      "\n",
      "Betas using mySQL using the connectionstring described above\n",
      "Dim connection As New MySq]lConnection(connectionString)\n",
      "\n",
      "\"is the command that descrives the data retrieved\n",
      "Dim query As String = \"SELECT * FROM CONTACTS\"\n",
      "\n",
      "‘this is the command exicuted, using the query described above in the connection 2\n",
      "above\n",
      "\n",
      "Smee Lila Me EMS MeN RLO DEOL IU TAeR GS] 0-1 a eRe -Lea COED\n",
      "#End Region\n",
      "\n",
      "‘creates a new ‘list’ of instances of the class ‘ bouncer’ this piece\n",
      "' of storeage will be referenced by nearley every other page in the project\n",
      "‘ this is done using paraeter passing\n",
      "\n",
      "Dim allJumpers As New List(Of bouncer)\n",
      "Private Sub Form1_Load(ByVal sender As System.Object, ByVal e As System.EventArgs)\n",
      "Handles MyBase.Load\n",
      "getMemberList()\n",
      "End Sub\n",
      "Sub getMemberList()\n",
      "\n",
      "' creates a data reader which reads a specific secton of the database\n",
      "Dim dr As MySql.Data.MySqlClient .MySqjJDataReader\n",
      "\n",
      "' 4 is just used as a counter\n",
      "\n",
      "Dim i As Integer = @\n",
      "\n",
      "a7\n",
      "re) TCE TS\n",
      "connection.Open()\n",
      "to Tec Oe | ET TP ok\n",
      "\n",
      "from contacts”\n",
      "dr = command. ExecuteReader()\n",
      "\n",
      "While dr.Read\n",
      "alljumpers.Add(New bouncer)\n",
      "ahd ee POO slat ee)\n",
      "me Tae tele -ere coe PRS MTP a 1 are Ce ee )\n",
      "i w i in the table ‘contacts’\n",
      "ae ed Nt Tas SD\n",
      "\n",
      "Page- 185 -\n",
      "\f",
      "\n"
     ]
    }
   ],
   "source": [
    "for image_file in images[:1]:\n",
    "    img = cv2.imread(image_file)\n",
    "    gray = cv2.cvtColor(img, cv2.COLOR_RGB2GRAY)\n",
    "    gray, img_bin = cv2.threshold(gray,128,255,cv2.THRESH_BINARY | cv2.THRESH_OTSU)\n",
    "    gray = cv2.bitwise_not(img_bin)\n",
    "    kernel = np.ones((2, 1), np.uint8)\n",
    "    img = cv2.erode(gray, kernel, iterations=2)\n",
    "    img = cv2.dilate(img, kernel, iterations=2)\n",
    "    res = pytesseract.image_to_string(img)\n",
    "    print(res)\n",
    "\n"
   ]
  },
  {
   "cell_type": "code",
   "execution_count": null,
   "metadata": {},
   "outputs": [],
   "source": []
  }
 ],
 "metadata": {
  "kernelspec": {
   "display_name": "Python 3",
   "language": "python",
   "name": "python3"
  },
  "language_info": {
   "codemirror_mode": {
    "name": "ipython",
    "version": 3
   },
   "file_extension": ".py",
   "mimetype": "text/x-python",
   "name": "python",
   "nbconvert_exporter": "python",
   "pygments_lexer": "ipython3",
   "version": "3.8.5"
  }
 },
 "nbformat": 4,
 "nbformat_minor": 4
}
