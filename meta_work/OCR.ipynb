{
 "cells": [
  {
   "cell_type": "markdown",
   "metadata": {},
   "source": [
    "This will handle the first step of the process - creating the code from the images."
   ]
  },
  {
   "cell_type": "code",
   "execution_count": 3,
   "metadata": {},
   "outputs": [],
   "source": [
    "from azure.cognitiveservices.vision.computervision import ComputerVisionClient\n",
    "from azure.cognitiveservices.vision.computervision.models import OperationStatusCodes\n",
    "from azure.cognitiveservices.vision.computervision.models import VisualFeatureTypes\n",
    "from msrest.authentication import CognitiveServicesCredentials\n",
    "\n",
    "from array import array\n",
    "import os\n",
    "from PIL import Image\n",
    "import sys\n",
    "import time\n",
    "from glob import glob\n",
    "import private_secrets as secrets"
   ]
  },
  {
   "cell_type": "code",
   "execution_count": 10,
   "metadata": {},
   "outputs": [],
   "source": [
    "# basic setup and auth\n",
    "subscription_key = secrets.SUB_KEY\n",
    "endpoint = \"https://test-image-rec.cognitiveservices.azure.com/\"\n",
    "computervision_client = ComputerVisionClient(endpoint, CognitiveServicesCredentials(subscription_key))\n",
    "GH_BASE = 'https://raw.githubusercontent.com/GitToby/college-code-reincarnation/master/meta_work/img/'"
   ]
  },
  {
   "cell_type": "code",
   "execution_count": 12,
   "metadata": {},
   "outputs": [
    {
     "output_type": "stream",
     "name": "stdout",
     "text": [
      "28 Images\n"
     ]
    }
   ],
   "source": [
    "# fetch all images\n",
    "images = glob(\"img/*\")\n",
    "\n",
    "# replace the folder to get just the image filenames\n",
    "for i in range(len(images)):\n",
    "    images[i] = images[i].replace(\"img/\",\"\")\n",
    "\n",
    "image_urls = [GH_BASE + im for im in images]\n",
    "\n",
    "print(len(images), \"Images\")"
   ]
  },
  {
   "cell_type": "code",
   "execution_count": 15,
   "metadata": {},
   "outputs": [],
   "source": [
    "def make_request(img_url: str, print_res: bool = False) -> str:\n",
    "    # Make initial request\n",
    "    recognize_handw_results = computervision_client.read(img_url, raw=True)\n",
    "\n",
    "    # Parse response to get op ID \n",
    "    operation_location_remote = recognize_handw_results.headers[\"Operation-Location\"]\n",
    "    operation_id = operation_location_remote.split(\"/\")[-1]\n",
    "    \n",
    "    # Await the response while remote does processing (nast impl but I dont care) \n",
    "    while True:\n",
    "        get_handw_text_results = computervision_client.get_read_result(operation_id)\n",
    "        if get_handw_text_results.status not in ['notStarted', 'running']:\n",
    "            break\n",
    "        time.sleep(1)\n",
    "\n",
    "    # Print the detected text, line by line\n",
    "    if get_handw_text_results.status == OperationStatusCodes.succeeded:\n",
    "        for text_result in get_handw_text_results.analyze_result.read_results:\n",
    "            if print_res:\n",
    "                for line in text_result.lines:\n",
    "                    print(line.text)\n",
    "            return text_result.lines"
   ]
  },
  {
   "cell_type": "code",
   "execution_count": null,
   "metadata": {},
   "outputs": [],
   "source": []
  },
  {
   "cell_type": "code",
   "execution_count": 37,
   "metadata": {},
   "outputs": [],
   "source": [
    "def pipe_image_to_txt(image_file_path: str) -> (str,str):\n",
    "    # form known url\n",
    "    image_url = GH_BASE + image_file_path\n",
    "\n",
    "    # Make request and get data\n",
    "    res = make_request(image_url)\n",
    "\n",
    "    # Join resulting data to a string\n",
    "    out_text = \"\\n\".join(t.text for t in res)\n",
    "    \n",
    "    # dump into an out file\n",
    "    out_file_name = image_file_path.replace(\".jpg\",\".txt\")\n",
    "    with open(f\"out/{out_file_name}\", \"w\") as f:\n",
    "        f.write(out_text)\n",
    "\n",
    "    # util result\n",
    "    return image_file_path, out_file_name\n"
   ]
  },
  {
   "cell_type": "code",
   "execution_count": 38,
   "metadata": {},
   "outputs": [
    {
     "output_type": "stream",
     "name": "stdout",
     "text": [
      "0 | 20201114_120404.jpg -> 20201114_120404.txt\n",
      "1 | 20201114_121320.jpg -> 20201114_121320.txt\n",
      "2 | 20201114_121127.jpg -> 20201114_121127.txt\n",
      "3 | original_52bb22e9-e080-4fc8-8ca8-723d81f23f1e_20201114_121259.jpg -> original_52bb22e9-e080-4fc8-8ca8-723d81f23f1e_20201114_121259.txt\n",
      "4 | 20201114_120643.jpg -> 20201114_120643.txt\n",
      "5 | 20201114_121008.jpg -> 20201114_121008.txt\n",
      "6 | 20201114_121720.jpg -> 20201114_121720.txt\n",
      "7 | 20201114_120957.jpg -> 20201114_120957.txt\n",
      "8 | 20201114_120852.jpg -> 20201114_120852.txt\n",
      "9 | original_43cdf05a-d05f-4adb-9d9b-c0b1b9e9db13_20201114_121219.jpg -> original_43cdf05a-d05f-4adb-9d9b-c0b1b9e9db13_20201114_121219.txt\n",
      "10 | 20201114_120719.jpg -> 20201114_120719.txt\n",
      "11 | 20201114_121709.jpg -> 20201114_121709.txt\n",
      "12 | 20201114_120743.jpg -> 20201114_120743.txt\n",
      "13 | 20201114_120909.jpg -> 20201114_120909.txt\n",
      "14 | 20201114_120930.jpg -> 20201114_120930.txt\n",
      "15 | 20201114_121752.jpg -> 20201114_121752.txt\n",
      "16 | 20201114_120820.jpg -> 20201114_120820.txt\n",
      "17 | 20201114_121207.jpg -> 20201114_121207.txt\n",
      "18 | original_cdc77283-600d-4f99-a5ad-250f782c0c4e_20201114_121242.jpg -> original_cdc77283-600d-4f99-a5ad-250f782c0c4e_20201114_121242.txt\n",
      "19 | 20201114_121048.jpg -> 20201114_121048.txt\n",
      "20 | 20201114_121111.jpg -> 20201114_121111.txt\n",
      "21 | 20201114_121659.jpg -> 20201114_121659.txt\n",
      "22 | 20201114_121027.jpg -> 20201114_121027.txt\n",
      "23 | 20201114_121743.jpg -> 20201114_121743.txt\n",
      "24 | 20201114_121758.jpg -> 20201114_121758.txt\n",
      "25 | 20201114_121733.jpg -> 20201114_121733.txt\n",
      "26 | 20201114_121804.jpg -> 20201114_121804.txt\n",
      "27 | 20201114_120623.jpg -> 20201114_120623.txt\n"
     ]
    }
   ],
   "source": [
    "for i, image_file_path in enumerate(images):\n",
    "    original, test_file = pipe_image_to_txt(image_file_path)\n",
    "    print(i, \"|\", original, \"->\", test_file)"
   ]
  },
  {
   "cell_type": "code",
   "execution_count": null,
   "metadata": {},
   "outputs": [],
   "source": []
  }
 ],
 "metadata": {
  "kernelspec": {
   "display_name": "Python 3",
   "language": "python",
   "name": "python3"
  },
  "language_info": {
   "codemirror_mode": {
    "name": "ipython",
    "version": 3
   },
   "file_extension": ".py",
   "mimetype": "text/x-python",
   "name": "python",
   "nbconvert_exporter": "python",
   "pygments_lexer": "ipython3",
   "version": "3.8.5-final"
  }
 },
 "nbformat": 4,
 "nbformat_minor": 4
}