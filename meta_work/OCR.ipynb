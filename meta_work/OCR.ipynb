{
 "cells": [
  {
   "cell_type": "markdown",
   "metadata": {},
   "source": [
    "This will handle the first step of the process - creating the code from the images."
   ]
  },
  {
   "cell_type": "code",
   "execution_count": 11,
   "metadata": {},
   "outputs": [],
   "source": [
    "from azure.cognitiveservices.vision.computervision import ComputerVisionClient\n",
    "from azure.cognitiveservices.vision.computervision.models import OperationStatusCodes\n",
    "from azure.cognitiveservices.vision.computervision.models import VisualFeatureTypes\n",
    "from msrest.authentication import CognitiveServicesCredentials\n",
    "\n",
    "from array import array\n",
    "import os\n",
    "from PIL import Image\n",
    "import sys\n",
    "import time\n",
    "from glob import glob\n",
    "import private_secrets as secrets"
   ]
  },
  {
   "cell_type": "code",
   "execution_count": 12,
   "metadata": {},
   "outputs": [],
   "source": [
    "# basic setup and auth\n",
    "subscription_key = secrets.SUB_KEY\n",
    "endpoint = \"https://test-image-rec.cognitiveservices.azure.com/\"\n",
    "computervision_client = ComputerVisionClient(endpoint, CognitiveServicesCredentials(subscription_key))\n",
    "GH_BASE = 'https://raw.githubusercontent.com/GitToby/college-code-reincarnation/master/meta_work/img/'"
   ]
  },
  {
   "cell_type": "code",
   "execution_count": 13,
   "metadata": {},
   "outputs": [
    {
     "output_type": "stream",
     "name": "stdout",
     "text": [
      "37 Images\n"
     ]
    }
   ],
   "source": [
    "# fetch all images\n",
    "images = glob(\"img/*\")\n",
    "\n",
    "# replace the folder to get just the image filenames\n",
    "for i in range(len(images)):\n",
    "    images[i] = images[i].replace(\"img/\",\"\")\n",
    "\n",
    "image_urls = [GH_BASE + im for im in images]\n",
    "\n",
    "print(len(images), \"Images\")"
   ]
  },
  {
   "cell_type": "code",
   "execution_count": 14,
   "metadata": {},
   "outputs": [],
   "source": [
    "def make_request(img_url: str, print_res: bool = False) -> str:\n",
    "    # Make initial request\n",
    "    recognize_handw_results = computervision_client.read(img_url, raw=True)\n",
    "\n",
    "    # Parse response to get op ID \n",
    "    operation_location_remote = recognize_handw_results.headers[\"Operation-Location\"]\n",
    "    operation_id = operation_location_remote.split(\"/\")[-1]\n",
    "    \n",
    "    # Await the response while remote does processing (nast impl but I dont care) \n",
    "    while True:\n",
    "        get_handw_text_results = computervision_client.get_read_result(operation_id)\n",
    "        if get_handw_text_results.status not in ['notStarted', 'running']:\n",
    "            break\n",
    "        time.sleep(1)\n",
    "\n",
    "    # Print the detected text, line by line\n",
    "    if get_handw_text_results.status == OperationStatusCodes.succeeded:\n",
    "        for text_result in get_handw_text_results.analyze_result.read_results:\n",
    "            if print_res:\n",
    "                for line in text_result.lines:\n",
    "                    print(line.text)\n",
    "            return text_result.lines"
   ]
  },
  {
   "cell_type": "code",
   "execution_count": 15,
   "metadata": {},
   "outputs": [],
   "source": [
    "def pipe_image_to_txt(image_file_path: str) -> (str,str):\n",
    "    # form known url\n",
    "    image_url = GH_BASE + image_file_path\n",
    "\n",
    "    # Make request and get data\n",
    "    res = make_request(image_url)\n",
    "\n",
    "    # Join resulting data to a string\n",
    "    out_text = \"\\n\".join(t.text for t in res)\n",
    "    \n",
    "    # dump into an out file\n",
    "    out_file_name = image_file_path.replace(\".jpg\",\".txt\")\n",
    "    with open(f\"out/{out_file_name}\", \"w\") as f:\n",
    "        f.write(out_text)\n",
    "\n",
    "    # util result\n",
    "    return image_file_path, out_file_name\n"
   ]
  },
  {
   "cell_type": "code",
   "execution_count": 41,
   "metadata": {},
   "outputs": [
    {
     "output_type": "stream",
     "name": "stdout",
     "text": [
      "0 | addNewMember5.jpg -> addNewMember5.txt\n",
      "1 | editMemberInfo3.jpg -> editMemberInfo3.txt\n",
      "2 | sendEmail2.jpg -> sendEmail2.txt\n",
      "3 | editMemberInfo1.jpg -> editMemberInfo1.txt\n",
      "4 | addNewMember3.jpg -> addNewMember3.txt\n"
     ]
    },
    {
     "output_type": "error",
     "ename": "ComputerVisionErrorException",
     "evalue": "Operation returned an invalid status code 'Bad Request'",
     "traceback": [
      "\u001b[0;31m---------------------------------------------------------------------------\u001b[0m",
      "\u001b[0;31mComputerVisionErrorException\u001b[0m              Traceback (most recent call last)",
      "\u001b[0;32m<ipython-input-41-0d4aaa66e147>\u001b[0m in \u001b[0;36m<module>\u001b[0;34m\u001b[0m\n\u001b[1;32m      1\u001b[0m \u001b[0;32mfor\u001b[0m \u001b[0mi\u001b[0m\u001b[0;34m,\u001b[0m \u001b[0mimage_file_path\u001b[0m \u001b[0;32min\u001b[0m \u001b[0menumerate\u001b[0m\u001b[0;34m(\u001b[0m\u001b[0mimages\u001b[0m\u001b[0;34m)\u001b[0m\u001b[0;34m:\u001b[0m\u001b[0;34m\u001b[0m\u001b[0;34m\u001b[0m\u001b[0m\n\u001b[0;32m----> 2\u001b[0;31m     \u001b[0moriginal\u001b[0m\u001b[0;34m,\u001b[0m \u001b[0mtest_file\u001b[0m \u001b[0;34m=\u001b[0m \u001b[0mpipe_image_to_txt\u001b[0m\u001b[0;34m(\u001b[0m\u001b[0mimage_file_path\u001b[0m\u001b[0;34m)\u001b[0m\u001b[0;34m\u001b[0m\u001b[0;34m\u001b[0m\u001b[0m\n\u001b[0m\u001b[1;32m      3\u001b[0m     \u001b[0mprint\u001b[0m\u001b[0;34m(\u001b[0m\u001b[0mi\u001b[0m\u001b[0;34m,\u001b[0m \u001b[0;34m\"|\"\u001b[0m\u001b[0;34m,\u001b[0m \u001b[0moriginal\u001b[0m\u001b[0;34m,\u001b[0m \u001b[0;34m\"->\"\u001b[0m\u001b[0;34m,\u001b[0m \u001b[0mtest_file\u001b[0m\u001b[0;34m)\u001b[0m\u001b[0;34m\u001b[0m\u001b[0;34m\u001b[0m\u001b[0m\n",
      "\u001b[0;32m<ipython-input-15-6b3c78eef8c1>\u001b[0m in \u001b[0;36mpipe_image_to_txt\u001b[0;34m(image_file_path)\u001b[0m\n\u001b[1;32m      4\u001b[0m \u001b[0;34m\u001b[0m\u001b[0m\n\u001b[1;32m      5\u001b[0m     \u001b[0;31m# Make request and get data\u001b[0m\u001b[0;34m\u001b[0m\u001b[0;34m\u001b[0m\u001b[0;34m\u001b[0m\u001b[0m\n\u001b[0;32m----> 6\u001b[0;31m     \u001b[0mres\u001b[0m \u001b[0;34m=\u001b[0m \u001b[0mmake_request\u001b[0m\u001b[0;34m(\u001b[0m\u001b[0mimage_url\u001b[0m\u001b[0;34m)\u001b[0m\u001b[0;34m\u001b[0m\u001b[0;34m\u001b[0m\u001b[0m\n\u001b[0m\u001b[1;32m      7\u001b[0m \u001b[0;34m\u001b[0m\u001b[0m\n\u001b[1;32m      8\u001b[0m     \u001b[0;31m# Join resulting data to a string\u001b[0m\u001b[0;34m\u001b[0m\u001b[0;34m\u001b[0m\u001b[0;34m\u001b[0m\u001b[0m\n",
      "\u001b[0;32m<ipython-input-14-5a1767433070>\u001b[0m in \u001b[0;36mmake_request\u001b[0;34m(img_url, print_res)\u001b[0m\n\u001b[1;32m      1\u001b[0m \u001b[0;32mdef\u001b[0m \u001b[0mmake_request\u001b[0m\u001b[0;34m(\u001b[0m\u001b[0mimg_url\u001b[0m\u001b[0;34m:\u001b[0m \u001b[0mstr\u001b[0m\u001b[0;34m,\u001b[0m \u001b[0mprint_res\u001b[0m\u001b[0;34m:\u001b[0m \u001b[0mbool\u001b[0m \u001b[0;34m=\u001b[0m \u001b[0;32mFalse\u001b[0m\u001b[0;34m)\u001b[0m \u001b[0;34m->\u001b[0m \u001b[0mstr\u001b[0m\u001b[0;34m:\u001b[0m\u001b[0;34m\u001b[0m\u001b[0;34m\u001b[0m\u001b[0m\n\u001b[1;32m      2\u001b[0m     \u001b[0;31m# Make initial request\u001b[0m\u001b[0;34m\u001b[0m\u001b[0;34m\u001b[0m\u001b[0;34m\u001b[0m\u001b[0m\n\u001b[0;32m----> 3\u001b[0;31m     \u001b[0mrecognize_handw_results\u001b[0m \u001b[0;34m=\u001b[0m \u001b[0mcomputervision_client\u001b[0m\u001b[0;34m.\u001b[0m\u001b[0mread\u001b[0m\u001b[0;34m(\u001b[0m\u001b[0mimg_url\u001b[0m\u001b[0;34m,\u001b[0m \u001b[0mraw\u001b[0m\u001b[0;34m=\u001b[0m\u001b[0;32mTrue\u001b[0m\u001b[0;34m)\u001b[0m\u001b[0;34m\u001b[0m\u001b[0;34m\u001b[0m\u001b[0m\n\u001b[0m\u001b[1;32m      4\u001b[0m \u001b[0;34m\u001b[0m\u001b[0m\n\u001b[1;32m      5\u001b[0m     \u001b[0;31m# Parse response to get op ID\u001b[0m\u001b[0;34m\u001b[0m\u001b[0;34m\u001b[0m\u001b[0;34m\u001b[0m\u001b[0m\n",
      "\u001b[0;32m~/PycharmProjects/code rencanation/.venv/lib/python3.8/site-packages/azure/cognitiveservices/vision/computervision/operations/_computer_vision_client_operations.py\u001b[0m in \u001b[0;36mread\u001b[0;34m(self, url, language, custom_headers, raw, **operation_config)\u001b[0m\n\u001b[1;32m    775\u001b[0m \u001b[0;34m\u001b[0m\u001b[0m\n\u001b[1;32m    776\u001b[0m         \u001b[0;32mif\u001b[0m \u001b[0mresponse\u001b[0m\u001b[0;34m.\u001b[0m\u001b[0mstatus_code\u001b[0m \u001b[0;32mnot\u001b[0m \u001b[0;32min\u001b[0m \u001b[0;34m[\u001b[0m\u001b[0;36m202\u001b[0m\u001b[0;34m]\u001b[0m\u001b[0;34m:\u001b[0m\u001b[0;34m\u001b[0m\u001b[0;34m\u001b[0m\u001b[0m\n\u001b[0;32m--> 777\u001b[0;31m             \u001b[0;32mraise\u001b[0m \u001b[0mmodels\u001b[0m\u001b[0;34m.\u001b[0m\u001b[0mComputerVisionErrorException\u001b[0m\u001b[0;34m(\u001b[0m\u001b[0mself\u001b[0m\u001b[0;34m.\u001b[0m\u001b[0m_deserialize\u001b[0m\u001b[0;34m,\u001b[0m \u001b[0mresponse\u001b[0m\u001b[0;34m)\u001b[0m\u001b[0;34m\u001b[0m\u001b[0;34m\u001b[0m\u001b[0m\n\u001b[0m\u001b[1;32m    778\u001b[0m \u001b[0;34m\u001b[0m\u001b[0m\n\u001b[1;32m    779\u001b[0m         \u001b[0;32mif\u001b[0m \u001b[0mraw\u001b[0m\u001b[0;34m:\u001b[0m\u001b[0;34m\u001b[0m\u001b[0;34m\u001b[0m\u001b[0m\n",
      "\u001b[0;31mComputerVisionErrorException\u001b[0m: Operation returned an invalid status code 'Bad Request'"
     ]
    }
   ],
   "source": [
    "for i, image_file_path in enumerate(sorted(images)):\n",
    "    original, test_file = pipe_image_to_txt(image_file_path)\n",
    "    print(i, \"|\", original, \"->\", test_file)"
   ]
  },
  {
   "cell_type": "code",
   "execution_count": 40,
   "metadata": {},
   "outputs": [
    {
     "output_type": "execute_result",
     "data": {
      "text/plain": [
       "{'b': ['out/b1.txt', 'out/b2.txt'],\n",
       " 'a': ['out/a1.txt', 'out/a3.txt', 'out/a2.txt']}"
      ]
     },
     "metadata": {},
     "execution_count": 40
    }
   ],
   "source": [
    "files = glob(\"out/*\")\n",
    "f_map = dict()\n",
    "for f in files:\n",
    "    f_key = re.search(\"[a-zA-Z][0-9]\",f).group()[:-1]\n",
    "    if f_key in f_map.keys():\n",
    "        f_map[f_key] += [f]\n",
    "    else:\n",
    "        f_map[f_key] = [f]\n",
    "\n",
    "f_map"
   ]
  },
  {
   "cell_type": "code",
   "execution_count": 35,
   "metadata": {},
   "outputs": [
    {
     "output_type": "execute_result",
     "data": {
      "text/plain": [
       "'b1'"
      ]
     },
     "metadata": {},
     "execution_count": 35
    }
   ],
   "source": [
    "import re\n",
    "re.search(\"[a-zA-Z][0-9]\",files[0]).group()"
   ]
  }
 ],
 "metadata": {
  "kernelspec": {
   "display_name": "Python 3",
   "language": "python",
   "name": "python3"
  },
  "language_info": {
   "codemirror_mode": {
    "name": "ipython",
    "version": 3
   },
   "file_extension": ".py",
   "mimetype": "text/x-python",
   "name": "python",
   "nbconvert_exporter": "python",
   "pygments_lexer": "ipython3",
   "version": "3.8.5-final"
  }
 },
 "nbformat": 4,
 "nbformat_minor": 4
}