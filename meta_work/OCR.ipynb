{
 "cells": [
  {
   "cell_type": "markdown",
   "metadata": {},
   "source": [
    "This will handle the first step of the process - creating the code from the images."
   ]
  },
  {
   "cell_type": "code",
   "execution_count": 3,
   "metadata": {},
   "outputs": [],
   "source": [
    "from azure.cognitiveservices.vision.computervision import ComputerVisionClient\n",
    "from azure.cognitiveservices.vision.computervision.models import OperationStatusCodes\n",
    "from azure.cognitiveservices.vision.computervision.models import VisualFeatureTypes\n",
    "from msrest.authentication import CognitiveServicesCredentials\n",
    "\n",
    "from array import array\n",
    "import os\n",
    "from PIL import Image\n",
    "import sys\n",
    "import time\n",
    "from glob import glob\n",
    "import private_secrets as secrets"
   ]
  },
  {
   "cell_type": "code",
   "execution_count": 10,
   "metadata": {},
   "outputs": [],
   "source": [
    "# basic setup and auth\n",
    "subscription_key = secrets.SUB_KEY\n",
    "endpoint = \"https://test-image-rec.cognitiveservices.azure.com/\"\n",
    "computervision_client = ComputerVisionClient(endpoint, CognitiveServicesCredentials(subscription_key))\n",
    "GH_BASE = 'https://raw.githubusercontent.com/GitToby/college-code-reincarnation/master/meta_work/img/'"
   ]
  },
  {
   "cell_type": "code",
   "execution_count": 12,
   "metadata": {},
   "outputs": [
    {
     "output_type": "stream",
     "name": "stdout",
     "text": [
      "28 Images\n"
     ]
    }
   ],
   "source": [
    "# fetch all images\n",
    "images = glob(\"img/*\")\n",
    "\n",
    "# replace the folder to get just the image filenames\n",
    "for i in range(len(images)):\n",
    "    images[i] = images[i].replace(\"img/\",\"\")\n",
    "\n",
    "image_urls = [GH_BASE + im for im in images]\n",
    "\n",
    "print(len(images), \"Images\")"
   ]
  },
  {
   "cell_type": "code",
   "execution_count": 15,
   "metadata": {},
   "outputs": [],
   "source": [
    "def make_request(img_url: str, print_res: bool = False) -> str:\n",
    "    # Make initial request\n",
    "    recognize_handw_results = computervision_client.read(img_url, raw=True)\n",
    "\n",
    "    # Parse response to get op ID \n",
    "    operation_location_remote = recognize_handw_results.headers[\"Operation-Location\"]\n",
    "    operation_id = operation_location_remote.split(\"/\")[-1]\n",
    "    \n",
    "    # Await the response while remote does processing (nast impl but I dont care) \n",
    "    while True:\n",
    "        get_handw_text_results = computervision_client.get_read_result(operation_id)\n",
    "        if get_handw_text_results.status not in ['notStarted', 'running']:\n",
    "            break\n",
    "        time.sleep(1)\n",
    "\n",
    "    # Print the detected text, line by line\n",
    "    if get_handw_text_results.status == OperationStatusCodes.succeeded:\n",
    "        for text_result in get_handw_text_results.analyze_result.read_results:\n",
    "            if print_res:\n",
    "                for line in text_result.lines:\n",
    "                    print(line.text)\n",
    "            return text_result.lines"
   ]
  },
  {
   "cell_type": "code",
   "execution_count": null,
   "metadata": {},
   "outputs": [],
   "source": []
  },
  {
   "cell_type": "code",
   "execution_count": 33,
   "metadata": {},
   "outputs": [],
   "source": [
    "def pipe_image_to_txt(image_file_path: str) -> (str,str):\n",
    "    # form known url\n",
    "    image_url = GH_BASE + image_file_path\n",
    "\n",
    "    # Make request and get data\n",
    "    res = make_request(image_url)\n",
    "\n",
    "    # Join resulting data to a string\n",
    "    out_text = \"\\n\".join(t.text for t in res)\n",
    "    \n",
    "    # dump into an out file\n",
    "    out_file_name = images[0].replace(\".jpg\",\".txt\")\n",
    "    with open(f\"out/{out_file_name}\", \"w\") as f:\n",
    "        f.write(out_text)\n",
    "\n",
    "    # util result\n",
    "    return image_file_path, out_file_name\n"
   ]
  },
  {
   "cell_type": "code",
   "execution_count": 34,
   "metadata": {},
   "outputs": [
    {
     "output_type": "stream",
     "name": "stdout",
     "text": [
      "0 20201114_120404.jpg 20201114_120404.txt\n"
     ]
    }
   ],
   "source": [
    "for i, image_file_path in enumerate(images[:1]):\n",
    "    original, test_file = pipe_image_to_txt(image_file_path)\n",
    "    print(i, ,\"|\", original, \"->\", test_file)"
   ]
  },
  {
   "cell_type": "code",
   "execution_count": null,
   "metadata": {},
   "outputs": [],
   "source": []
  }
 ],
 "metadata": {
  "kernelspec": {
   "display_name": "Python 3",
   "language": "python",
   "name": "python3"
  },
  "language_info": {
   "codemirror_mode": {
    "name": "ipython",
    "version": 3
   },
   "file_extension": ".py",
   "mimetype": "text/x-python",
   "name": "python",
   "nbconvert_exporter": "python",
   "pygments_lexer": "ipython3",
   "version": "3.8.5-final"
  }
 },
 "nbformat": 4,
 "nbformat_minor": 4
}